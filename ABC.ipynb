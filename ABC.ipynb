{
 "cells": [
  {
   "cell_type": "markdown",
   "metadata": {},
   "source": [
    "#variables\n",
    "var1=10\n",
    "var2=20\n",
    "sum=var1+var2\n",
    "print(\"the result of var1+var2 is;\",sum)"
   ]
  },
  {
   "cell_type": "markdown",
   "metadata": {},
   "source": [
    "#variable\n",
    "var1=25\n",
    "var2=24\n",
    "difference=var1-var2\n",
    "print(\"the result of var1-var2 is;\",difference)"
   ]
  },
  {
   "cell_type": "code",
   "execution_count": 2,
   "metadata": {},
   "outputs": [],
   "source": [
    "#variable\n",
    "x=\"phyton\"\n",
    "y=\"is\"\n",
    "z=\"BaseException\"\n",
    "print=(x+y+z)"
   ]
  },
  {
   "cell_type": "code",
   "execution_count": 3,
   "metadata": {},
   "outputs": [],
   "source": [
    "x=\"john\" \n",
    "y=\"is\"\n",
    "z=\"gorgeous\"\n",
    "print=(x+y+z)"
   ]
  }
 ],
 "metadata": {
  "kernelspec": {
   "display_name": "Python 3",
   "language": "python",
   "name": "python3"
  },
  "language_info": {
   "codemirror_mode": {
    "name": "ipython",
    "version": 3
   },
   "file_extension": ".py",
   "mimetype": "text/x-python",
   "name": "python",
   "nbconvert_exporter": "python",
   "pygments_lexer": "ipython3",
   "version": "3.12.6"
  }
 },
 "nbformat": 4,
 "nbformat_minor": 2
}
